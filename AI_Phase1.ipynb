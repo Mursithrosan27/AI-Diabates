{
  "nbformat": 4,
  "nbformat_minor": 0,
  "metadata": {
    "colab": {
      "provenance": []
    },
    "kernelspec": {
      "name": "python3",
      "display_name": "Python 3"
    },
    "language_info": {
      "name": "python"
    }
  },
  "cells": [
    {
      "cell_type": "code",
      "source": [
        "import pandas as pd\n",
        "from sklearn.model_selection import train_test_split\n",
        "from sklearn.preprocessing import StandardScaler\n",
        "from sklearn.ensemble import RandomForestClassifier\n",
        "from sklearn.metrics import accuracy_score, classification_report\n",
        "data = pd.read_csv('/content/diabetes.csv')\n",
        "X = data.drop('Outcome', axis=1)\n",
        "y = data['Outcome']\n",
        "X_train, X_test, y_train, y_test = train_test_split(X, y, test_size=0.2, random_state=42)\n",
        "scaler = StandardScaler()\n",
        "X_train = scaler.fit_transform(X_train)\n",
        "X_test = scaler.transform(X_test)\n",
        "model = RandomForestClassifier(n_estimators=100, random_state=42)\n",
        "model.fit(X_train, y_train)\n",
        "def get_user_data():\n",
        "    user_data = []\n",
        "    try:\n",
        "        pregnancies = int(input(\"Enter the number of pregnancies: \"))\n",
        "        user_data.append(pregnancies)\n",
        "        glucose = float(input(\"Enter the glucose level: \"))\n",
        "        user_data.append(glucose)\n",
        "        blood_pressure = float(input(\"Enter the blood pressure: \"))\n",
        "        user_data.append(blood_pressure)\n",
        "        skin_thickness = float(input(\"Enter the skin thickness: \"))\n",
        "        user_data.append(skin_thickness)\n",
        "        insulin = float(input(\"Enter the insulin level: \"))\n",
        "        user_data.append(insulin)\n",
        "        bmi = float(input(\"Enter the BMI (Body Mass Index): \"))\n",
        "        user_data.append(bmi)\n",
        "        diabetes_pedigree = float(input(\"Enter the diabetes pedigree function: \"))\n",
        "        user_data.append(diabetes_pedigree)\n",
        "        age = int(input(\"Enter the age: \"))\n",
        "        user_data.append(age)\n",
        "    except ValueError:\n",
        "        print(\"Invalid input. Please enter valid numeric values.\")\n",
        "    return user_data\n",
        "user_data = get_user_data()\n",
        "user_data = scaler.transform([user_data])\n",
        "user_prediction = model.predict(user_data)\n",
        "def get_preventive_measures(prediction):\n",
        "    if prediction == 0:\n",
        "        return \"You are at low risk of diabetes. Maintain a healthy lifestyle.\"\n",
        "    else:\n",
        "        return \"You are at higher risk of diabetes. Consider consulting a healthcare professional.\"\n",
        "preventive_measures = get_preventive_measures(user_prediction[0])\n",
        "print(f'Personalized Preventive Measures: {preventive_measures}')"
      ],
      "metadata": {
        "id": "hC6aZvbjNpa8",
        "colab": {
          "base_uri": "https://localhost:8080/"
        },
        "outputId": "75df083c-374b-4c18-aff3-6c9cf5a085f3"
      },
      "execution_count": 2,
      "outputs": [
        {
          "output_type": "stream",
          "name": "stdout",
          "text": [
            "Enter the number of pregnancies: 1\n",
            "Enter the glucose level: 110\n",
            "Enter the blood pressure: 87\n",
            "Enter the skin thickness: 40\n",
            "Enter the insulin level: 100\n",
            "Enter the BMI (Body Mass Index): 21\n",
            "Enter the diabetes pedigree function: 0.871\n",
            "Enter the age: 45\n",
            "Personalized Preventive Measures: You are at low risk of diabetes. Maintain a healthy lifestyle.\n"
          ]
        },
        {
          "output_type": "stream",
          "name": "stderr",
          "text": [
            "/usr/local/lib/python3.10/dist-packages/sklearn/base.py:439: UserWarning: X does not have valid feature names, but StandardScaler was fitted with feature names\n",
            "  warnings.warn(\n"
          ]
        }
      ]
    },
    {
      "cell_type": "code",
      "source": [],
      "metadata": {
        "id": "sf8OMuRxNstu"
      },
      "execution_count": null,
      "outputs": []
    }
  ]
}